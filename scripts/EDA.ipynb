{
 "cells": [
  {
   "cell_type": "code",
   "execution_count": 420,
   "metadata": {
    "collapsed": true
   },
   "outputs": [],
   "source": [
    "import pandas as pd\n",
    "import numpy as np\n",
    "import matplotlib.pyplot as plt\n",
    "import seaborn as sns\n",
    "%matplotlib inline"
   ]
  },
  {
   "cell_type": "code",
   "execution_count": 421,
   "metadata": {
    "collapsed": true
   },
   "outputs": [],
   "source": [
    "df = pd.read_csv('data/all_jobs.csv')"
   ]
  },
  {
   "cell_type": "code",
   "execution_count": 422,
   "metadata": {},
   "outputs": [
    {
     "name": "stdout",
     "output_type": "stream",
     "text": [
      "<class 'pandas.core.frame.DataFrame'>\n",
      "RangeIndex: 1175 entries, 0 to 1174\n",
      "Data columns (total 27 columns):\n",
      "area_of_work                       1175 non-null object\n",
      "campaign_end_date                  1175 non-null object\n",
      "campaign_start_date                1175 non-null object\n",
      "contract_type                      1175 non-null object\n",
      "country                            1175 non-null object\n",
      "country_code                       1175 non-null object\n",
      "description                        1175 non-null object\n",
      "employer_logo                      236 non-null object\n",
      "employer_name                      1175 non-null object\n",
      "job_end_date                       7 non-null object\n",
      "job_level                          1175 non-null object\n",
      "job_start_date                     33 non-null object\n",
      "job_type                           1175 non-null object\n",
      "listing_type                       1175 non-null object\n",
      "location                           1175 non-null object\n",
      "number_of_positions                1175 non-null int64\n",
      "required_work_experience_months    1175 non-null int64\n",
      "responsibilities                   1172 non-null object\n",
      "responsibilities_raw               1172 non-null object\n",
      "salary_info                        9 non-null object\n",
      "salary_max_cents                   1175 non-null int64\n",
      "salary_max_currency                1175 non-null object\n",
      "salary_min_cents                   1175 non-null int64\n",
      "salary_min_currency                1175 non-null object\n",
      "styled_flow_url                    1175 non-null object\n",
      "title                              1175 non-null object\n",
      "url                                1175 non-null object\n",
      "dtypes: int64(4), object(23)\n",
      "memory usage: 247.9+ KB\n"
     ]
    }
   ],
   "source": [
    "df.info()"
   ]
  },
  {
   "cell_type": "code",
   "execution_count": 423,
   "metadata": {
    "collapsed": true
   },
   "outputs": [],
   "source": [
    "df['orig_idx'] = df.index.values"
   ]
  },
  {
   "cell_type": "code",
   "execution_count": 424,
   "metadata": {},
   "outputs": [
    {
     "name": "stdout",
     "output_type": "stream",
     "text": [
      "Dropping column: salary_max_currency\n",
      "Dropping column: salary_min_currency\n"
     ]
    }
   ],
   "source": [
    "# Drop columns with zero variance\n",
    "for col in df.columns:\n",
    "    if df[col].unique().size==1:\n",
    "        print(\"Dropping column: {0}\".format(col))\n",
    "        df = df.drop(col, axis=1)"
   ]
  },
  {
   "cell_type": "code",
   "execution_count": 425,
   "metadata": {},
   "outputs": [
    {
     "data": {
      "text/plain": [
       "7"
      ]
     },
     "execution_count": 425,
     "metadata": {},
     "output_type": "execute_result"
    }
   ],
   "source": [
    "len(df[~df['job_end_date'].isnull()])"
   ]
  },
  {
   "cell_type": "code",
   "execution_count": 426,
   "metadata": {},
   "outputs": [
    {
     "name": "stdout",
     "output_type": "stream",
     "text": [
      "Dropping column: employer_logo\n",
      "Dropping column: job_end_date\n",
      "Dropping column: job_start_date\n",
      "Dropping column: salary_info\n"
     ]
    }
   ],
   "source": [
    "# Drop columns with less than 40% of non-null\n",
    "for col in df.columns:\n",
    "    if len(df[~df[col].isnull()])/float(len(df))<0.4:\n",
    "        print(\"Dropping column: {0}\".format(col))\n",
    "        df = df.drop(col, axis=1)"
   ]
  },
  {
   "cell_type": "code",
   "execution_count": 427,
   "metadata": {
    "collapsed": true
   },
   "outputs": [],
   "source": [
    "# Change datetime columns to pandas datatime objects\n",
    "for col in [c for c in df.columns if \"_date\" in c]:\n",
    "    if \"_date\" in col:\n",
    "        df[col] = pd.to_datetime(df[col])"
   ]
  },
  {
   "cell_type": "code",
   "execution_count": 428,
   "metadata": {
    "collapsed": true
   },
   "outputs": [],
   "source": [
    "# Create additional datatime features\n",
    "for col in [c for c in df.columns if \"_date\" in c]:\n",
    "    stem = col[:-5]\n",
    "    df[col+'_year'] = df[col].dt.year\n",
    "    df[col+'_month'] = df[col].dt.month\n",
    "    df[col+'_day'] = df[col].dt.day\n",
    "df['campaign_duration'] = (df['campaign_end_date'] - df['campaign_start_date']).dt.days"
   ]
  },
  {
   "cell_type": "code",
   "execution_count": 429,
   "metadata": {},
   "outputs": [
    {
     "name": "stdout",
     "output_type": "stream",
     "text": [
      "Our client is one of the leading ethical Clothing Factories in the world producing womenwear for export. They strive to reach the highest quality export standard and have manufactured for very well established and celebrated designer. Garments produced by the Company have been worn by Michelle Obama and their work is regularly featured in international publications. They are currently seeking to recruit a Production Manager. The ideal candidate Must have prior experience in a high-end Garment Manufacturing Company.\n",
      "\n",
      "\n",
      "The Norwegian Refugee Council (NRC) is a non-governmental, humanitarian organization with 60 years of experience in helping to create a safer and more dignified life for refugees and internally displaced people. NRC advocates for the rights of displaced populations and offers assistance within the shelter, education, emergency food security, legal assistance, and water,sanitation and hygiene sectors. The Norwegian Refugee Council has approximately 5000 committed and competent employees involved in projects across four continents. In addition, NRC runs one of the world’s largest standby rosters -NORCAP, with 650 professionals, ready to be deployed on 72 hours notice when a crisis occurs \n",
      "\n",
      "\n",
      "A fast growing Organization providing professional compliance, company secretarial and corporate governance advisory services is seeking to recruit a Company Secretary. The successful candidate Must have 2 years working experience in a busy company secretarial environment.\n",
      "\n",
      "\n",
      "Our client, a global materials, science and manufacturing company specializing in the design and manufacture of a wide variety of labelling and functional materials is looking to an accountant. The ideal candidate must have good experience in a multinational.\n",
      "\n",
      "\n",
      "Our Client a diversified investment holding company operating across East and Southern Africa is looking for a Group Financial Planning and Reporting Accountant. \n",
      "\n",
      "\n"
     ]
    }
   ],
   "source": [
    "for desc in df.description.head().values:\n",
    "    print desc\n",
    "    print '\\n'"
   ]
  },
  {
   "cell_type": "code",
   "execution_count": 430,
   "metadata": {
    "collapsed": true
   },
   "outputs": [],
   "source": [
    "df['desc_length'] = df['description'].apply(lambda x: len(x))"
   ]
  },
  {
   "cell_type": "code",
   "execution_count": 431,
   "metadata": {},
   "outputs": [
    {
     "name": "stdout",
     "output_type": "stream",
     "text": [
      "<class 'pandas.core.frame.DataFrame'>\n",
      "RangeIndex: 1175 entries, 0 to 1174\n",
      "Data columns (total 13 columns):\n",
      "number_of_positions                1175 non-null int64\n",
      "required_work_experience_months    1175 non-null int64\n",
      "salary_max_cents                   1175 non-null int64\n",
      "salary_min_cents                   1175 non-null int64\n",
      "orig_idx                           1175 non-null int64\n",
      "campaign_end_date_year             1175 non-null int64\n",
      "campaign_end_date_month            1175 non-null int64\n",
      "campaign_end_date_day              1175 non-null int64\n",
      "campaign_start_date_year           1175 non-null int64\n",
      "campaign_start_date_month          1175 non-null int64\n",
      "campaign_start_date_day            1175 non-null int64\n",
      "campaign_duration                  1175 non-null int64\n",
      "desc_length                        1175 non-null int64\n",
      "dtypes: int64(13)\n",
      "memory usage: 119.4 KB\n"
     ]
    }
   ],
   "source": [
    "df.select_dtypes(include=[type(4)]).info()"
   ]
  },
  {
   "cell_type": "code",
   "execution_count": 432,
   "metadata": {},
   "outputs": [],
   "source": [
    "df = pd.get_dummies(df,prefix=['country_code','job_level','listing_type','contract_type','job_type'],columns=['country_code','job_level','listing_type','contract_type','job_type'],dummy_na=True)"
   ]
  },
  {
   "cell_type": "code",
   "execution_count": 433,
   "metadata": {},
   "outputs": [],
   "source": [
    "df.drop(['campaign_end_date','campaign_end_date_year','campaign_end_date_month','campaign_end_date_day'], axis=1,inplace=True)"
   ]
  },
  {
   "cell_type": "code",
   "execution_count": 434,
   "metadata": {
    "collapsed": true
   },
   "outputs": [],
   "source": [
    "top_locations = df.location.value_counts()[:15].index\n",
    "for loc in top_locations:\n",
    "    df['location_'+loc] = np.where(df.location==loc,1,0)\n",
    "df['location_other'] = np.where(~df.location.isin(top_locations),1,0)"
   ]
  },
  {
   "cell_type": "code",
   "execution_count": 435,
   "metadata": {
    "collapsed": true
   },
   "outputs": [],
   "source": [
    "top_employers = df.employer_name.value_counts()[df.employer_name.value_counts() > 10].index"
   ]
  },
  {
   "cell_type": "code",
   "execution_count": 436,
   "metadata": {
    "collapsed": true
   },
   "outputs": [],
   "source": [
    "for emp in top_employers:\n",
    "    df['employer_'+emp] = np.where(df.employer_name == emp ,1,0)\n",
    "df['employer_other'] = np.where(~df.employer_name.isin(top_employers),1,0)"
   ]
  },
  {
   "cell_type": "code",
   "execution_count": 437,
   "metadata": {},
   "outputs": [
    {
     "data": {
      "text/plain": [
       "64"
      ]
     },
     "execution_count": 437,
     "metadata": {},
     "output_type": "execute_result"
    }
   ],
   "source": [
    "areas = [item for sublist in list(df['area_of_work'].value_counts().index) for item in sublist.split(',')]\n",
    "for area in areas:\n",
    "    df['aow_'+area.lower()] = np.where(df['area_of_work'].apply(lambda x: x.lower()).str.contains(area.lower()),1,0)\n",
    "len(areas)"
   ]
  },
  {
   "cell_type": "code",
   "execution_count": 438,
   "metadata": {},
   "outputs": [
    {
     "data": {
      "text/plain": [
       "[<matplotlib.lines.Line2D at 0x7fd2a29f6790>]"
      ]
     },
     "execution_count": 438,
     "metadata": {},
     "output_type": "execute_result"
    },
    {
     "data": {
      "image/png": "[encoded data removed]",
      "text/plain": [
       "<matplotlib.figure.Figure at 0x7fd2a2a0dbd0>"
      ]
     },
     "metadata": {},
     "output_type": "display_data"
    }
   ],
   "source": [
    "plt.plot(df.iloc[:,-64:].sum(axis=0).values)"
   ]
  },
  {
   "cell_type": "code",
   "execution_count": 439,
   "metadata": {},
   "outputs": [
    {
     "name": "stdout",
     "output_type": "stream",
     "text": [
      "18\n"
     ]
    },
    {
     "data": {
      "text/plain": [
       "Index([u'area_of_work', u'campaign_start_date', u'country', u'description',\n",
       "       u'employer_name', u'location', u'number_of_positions',\n",
       "       u'required_work_experience_months', u'responsibilities',\n",
       "       u'responsibilities_raw',\n",
       "       ...\n",
       "       u'aow_ finance', u'aow_ banking', u'aow_ insurance', u'aow_medical',\n",
       "       u'aow_ health', u'aow_information technology',\n",
       "       u'aow_ software development', u'aow_ data', u'aow_administrative',\n",
       "       u'aow_ clerical'],\n",
       "      dtype='object', length=105)"
      ]
     },
     "execution_count": 439,
     "metadata": {},
     "output_type": "execute_result"
    }
   ],
   "source": [
    "num_to_keep = (df.iloc[:,-64:].sum(axis=0) >50).sum()\n",
    "print num_to_keep\n",
    "df = df.iloc[:,:-64+num_to_keep]\n",
    "df.columns"
   ]
  },
  {
   "cell_type": "code",
   "execution_count": 440,
   "metadata": {},
   "outputs": [],
   "source": [
    "df.drop(['employer_name','location','number_of_positions','salary_max_cents','salary_min_cents',\n",
    "         'responsibilities_raw','styled_flow_url','url','area_of_work','responsibilities',\n",
    "        'country'], axis=1, inplace=True)"
   ]
  },
  {
   "cell_type": "code",
   "execution_count": 441,
   "metadata": {},
   "outputs": [
    {
     "name": "stdout",
     "output_type": "stream",
     "text": [
      "campaign_start_date\n",
      "description\n",
      "required_work_experience_months\n",
      "title\n",
      "orig_idx\n",
      "campaign_start_date_year\n",
      "campaign_start_date_month\n",
      "campaign_start_date_day\n",
      "campaign_duration\n",
      "desc_length\n",
      "country_code_CI\n",
      "country_code_DZ\n",
      "country_code_EG\n",
      "country_code_KE\n",
      "country_code_MU\n",
      "country_code_MZ\n",
      "country_code_NG\n",
      "country_code_PK\n",
      "country_code_SO\n",
      "country_code_TZ\n",
      "country_code_UG\n",
      "country_code_ZA\n",
      "country_code_nan\n",
      "job_level_Entry-Level\n",
      "job_level_Mid-Level\n",
      "job_level_Senior\n",
      "job_level_nan\n",
      "listing_type_external\n",
      "listing_type_internal\n",
      "listing_type_nan\n",
      "contract_type_Permanent\n",
      "contract_type_Temporary\n",
      "contract_type_nan\n",
      "job_type_Full Time\n",
      "job_type_Part Time\n",
      "job_type_nan\n",
      "location_Nairobi\n",
      "location_Uganda\n",
      "location_Mombasa\n",
      "location_Kisumu\n",
      "location_Nandi\n",
      "location_Bungoma\n",
      "location_Mandera\n",
      "location_Meru\n",
      "location_Thika\n",
      "location_Taita taveta\n",
      "location_Eldoret\n",
      "location_Siaya\n",
      "location_Nakuru\n",
      "location_Nyeri\n",
      "location_Kiambu\n",
      "location_other\n",
      "employer_Technical University Of Mombasa\n",
      "employer_Health Service Commission (Uganda)\n",
      "employer_Summit Recruitment &Training\n",
      "employer_Maseno University\n",
      "employer_National Bank\n",
      "employer_County Government of Nandi\n",
      "employer_Kibabii University\n",
      "employer_Skills Geographic Kenya (SGK)\n",
      "employer_Pernix Group\n",
      "employer_Clinton Health Access Initiative.Inc\n",
      "employer_Kenya Revenue Authority (KRA)\n",
      "employer_United Nations\n",
      "employer_Optiven Limited \n",
      "employer_Q-sourcing Limited\n",
      "employer_Finance Trust Bank\n",
      "employer_Kenya Medical Research Institute\n",
      "employer_LafargeHolcim \n",
      "employer_Cytonn\n",
      "employer_International Rescue Committee\n",
      "employer_County of Mandera\n",
      "employer_Barclays Bank of Uganda\n",
      "employer_Law Development Centre (Uganda)\n",
      "employer_Total Uganda\n",
      "employer_other\n",
      "aow_sales\n",
      "aow_ marketing\n",
      "aow_ promotion\n",
      "aow_teaching\n",
      "aow_ training\n",
      "aow_project\n",
      "aow_ program management\n",
      "aow_accounting\n",
      "aow_ finance\n",
      "aow_ banking\n",
      "aow_ insurance\n",
      "aow_medical\n",
      "aow_ health\n",
      "aow_information technology\n",
      "aow_ software development\n",
      "aow_ data\n",
      "aow_administrative\n",
      "aow_ clerical\n"
     ]
    }
   ],
   "source": [
    "for c in df.columns:\n",
    "    print c"
   ]
  },
  {
   "cell_type": "code",
   "execution_count": null,
   "metadata": {
    "collapsed": true
   },
   "outputs": [],
   "source": []
  },
  {
   "cell_type": "code",
   "execution_count": 442,
   "metadata": {
    "collapsed": true
   },
   "outputs": [],
   "source": [
    "df.to_csv('data/all_with_features.csv',header=True, index=False)"
   ]
  },
  {
   "cell_type": "code",
   "execution_count": null,
   "metadata": {
    "collapsed": true
   },
   "outputs": [],
   "source": []
  },
  {
   "cell_type": "code",
   "execution_count": null,
   "metadata": {
    "collapsed": true
   },
   "outputs": [],
   "source": []
  },
  {
   "cell_type": "code",
   "execution_count": null,
   "metadata": {
    "collapsed": true
   },
   "outputs": [],
   "source": []
  }
 ],
 "metadata": {
  "kernelspec": {
   "display_name": "Python [default]",
   "language": "python",
   "name": "python2"
  },
  "language_info": {
   "codemirror_mode": {
    "name": "ipython",
    "version": 2
   },
   "file_extension": ".py",
   "mimetype": "text/x-python",
   "name": "python",
   "nbconvert_exporter": "python",
   "pygments_lexer": "ipython2",
   "version": "2.7.14"
  }
 },
 "nbformat": 4,
 "nbformat_minor": 2
}
